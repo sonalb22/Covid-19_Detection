{
 "cells": [
  {
   "cell_type": "code",
   "execution_count": null,
   "id": "58bb6ed3",
   "metadata": {},
   "outputs": [],
   "source": [
    "import os\n",
    "import numpy as np\n",
    "import matplotlib.pyplot as plt\n",
    "import keras\n",
    "from keras.layers import *\n",
    "from keras.models import * \n",
    "from keras.preprocessing import image #for the imageDataGEnerator function"
   ]
  },
  {
   "cell_type": "code",
   "execution_count": 1,
   "id": "d3334af8",
   "metadata": {},
   "outputs": [],
   "source": [
    "#defining datasets path\n",
    "TRAIN_PATH = \"CovidDataset/Train\"\n",
    "VAL_PATH = \"CovidDataset/Test\""
   ]
  },
  {
   "cell_type": "code",
   "execution_count": 3,
   "id": "c93f8e06",
   "metadata": {},
   "outputs": [],
   "source": [
    "# CNN Based Model in Keras\n",
    "model = Sequential()\n",
    "model.add(Conv2D(32,kernel_size=(3,3),activation='relu',input_shape=(224,224,3)))\n",
    "model.add(Conv2D(64,(3,3),activation='relu'))\n",
    "model.add(MaxPooling2D(pool_size=(2,2)))#pooling layer\n",
    "model.add(Dropout(0.25))#dropout\n",
    "\n",
    "model.add(Conv2D(64,(3,3),activation='relu'))\n",
    "model.add(MaxPooling2D(pool_size=(2,2)))\n",
    "model.add(Dropout(0.25))\n",
    "\n",
    "model.add(Conv2D(128,(3,3),activation='relu'))\n",
    "model.add(MaxPooling2D(pool_size=(2,2)))\n",
    "model.add(Dropout(0.25))\n",
    "\n",
    "model.add(Flatten()) \n",
    "model.add(Dense(64,activation='relu'))\n",
    "model.add(Dropout(0.5))\n",
    "model.add(Dense(1,activation='sigmoid'))\n",
    "model.compile(loss=keras.losses.binary_crossentropy,optimizer='adam',metrics=['accuracy'])"
   ]
  },
  {
   "cell_type": "code",
   "execution_count": 4,
   "id": "fbe534de",
   "metadata": {},
   "outputs": [
    {
     "name": "stdout",
     "output_type": "stream",
     "text": [
      "Model: \"sequential\"\n",
      "_________________________________________________________________\n",
      "Layer (type)                 Output Shape              Param #   \n",
      "=================================================================\n",
      "conv2d (Conv2D)              (None, 222, 222, 32)      896       \n",
      "_________________________________________________________________\n",
      "conv2d_1 (Conv2D)            (None, 220, 220, 64)      18496     \n",
      "_________________________________________________________________\n",
      "max_pooling2d (MaxPooling2D) (None, 110, 110, 64)      0         \n",
      "_________________________________________________________________\n",
      "dropout (Dropout)            (None, 110, 110, 64)      0         \n",
      "_________________________________________________________________\n",
      "conv2d_2 (Conv2D)            (None, 108, 108, 64)      36928     \n",
      "_________________________________________________________________\n",
      "max_pooling2d_1 (MaxPooling2 (None, 54, 54, 64)        0         \n",
      "_________________________________________________________________\n",
      "dropout_1 (Dropout)          (None, 54, 54, 64)        0         \n",
      "_________________________________________________________________\n",
      "conv2d_3 (Conv2D)            (None, 52, 52, 128)       73856     \n",
      "_________________________________________________________________\n",
      "max_pooling2d_2 (MaxPooling2 (None, 26, 26, 128)       0         \n",
      "_________________________________________________________________\n",
      "dropout_2 (Dropout)          (None, 26, 26, 128)       0         \n",
      "_________________________________________________________________\n",
      "flatten (Flatten)            (None, 86528)             0         \n",
      "_________________________________________________________________\n",
      "dense (Dense)                (None, 64)                5537856   \n",
      "_________________________________________________________________\n",
      "dropout_3 (Dropout)          (None, 64)                0         \n",
      "_________________________________________________________________\n",
      "dense_1 (Dense)              (None, 1)                 65        \n",
      "=================================================================\n",
      "Total params: 5,668,097\n",
      "Trainable params: 5,668,097\n",
      "Non-trainable params: 0\n",
      "_________________________________________________________________\n"
     ]
    }
   ],
   "source": [
    "#Getting parameters\n",
    "model.summary()"
   ]
  },
  {
   "cell_type": "markdown",
   "id": "5cf9f3c9",
   "metadata": {},
   "source": [
    "# Data Augmentation"
   ]
  },
  {
   "cell_type": "code",
   "execution_count": 8,
   "id": "b3b17725",
   "metadata": {},
   "outputs": [],
   "source": [
    "#for train data\n",
    "train_datagen =image.ImageDataGenerator(\n",
    "    rescale=1./255,  # normalize pixel values between 0-1\n",
    "    shear_range=0.2,\n",
    "    zoom_range=0.5,\n",
    "    horizontal_flip=True # horizontal transposition\n",
    ")\n",
    "#for test data\n",
    "test_datagen=image.ImageDataGenerator(\n",
    "    rescale=1./255\n",
    ")"
   ]
  },
  {
   "cell_type": "code",
   "execution_count": 9,
   "id": "2bb96c1f",
   "metadata": {},
   "outputs": [
    {
     "name": "stdout",
     "output_type": "stream",
     "text": [
      "Found 224 images belonging to 2 classes.\n"
     ]
    }
   ],
   "source": [
    "# creating training set \n",
    "train_generator=train_datagen.flow_from_directory(\n",
    "    'CovidDataset/Train',\n",
    "    target_size=(224,224),\n",
    "    batch_size=32,\n",
    "    class_mode='binary'\n",
    ")\n",
    "\n"
   ]
  },
  {
   "cell_type": "code",
   "execution_count": 19,
   "id": "763fd50f",
   "metadata": {},
   "outputs": [
    {
     "data": {
      "text/plain": [
       "{'Covid': 0, 'Normal': 1}"
      ]
     },
     "execution_count": 19,
     "metadata": {},
     "output_type": "execute_result"
    }
   ],
   "source": [
    "train_generator.class_indices "
   ]
  },
  {
   "cell_type": "code",
   "execution_count": 10,
   "id": "e7329577",
   "metadata": {},
   "outputs": [
    {
     "name": "stdout",
     "output_type": "stream",
     "text": [
      "Found 60 images belonging to 2 classes.\n"
     ]
    }
   ],
   "source": [
    "#creating validation set\n",
    "validation_generator=test_datagen.flow_from_directory(\n",
    "    'CovidDataset/Val',\n",
    "    target_size=(224,224),\n",
    "    batch_size=32,\n",
    "    class_mode='binary'\n",
    ")"
   ]
  },
  {
   "cell_type": "code",
   "execution_count": 16,
   "id": "4d459b00",
   "metadata": {},
   "outputs": [
    {
     "name": "stdout",
     "output_type": "stream",
     "text": [
      "Epoch 1/10\n",
      "7/7 [==============================] - 112s 13s/step - loss: 0.4173 - accuracy: 0.8214 - val_loss: 0.2533 - val_accuracy: 0.9500\n",
      "Epoch 2/10\n",
      "7/7 [==============================] - 63s 9s/step - loss: 0.3873 - accuracy: 0.8661 - val_loss: 0.3188 - val_accuracy: 0.9833\n",
      "Epoch 3/10\n",
      "7/7 [==============================] - 67s 9s/step - loss: 0.3169 - accuracy: 0.9018 - val_loss: 0.1997 - val_accuracy: 0.9667\n",
      "Epoch 4/10\n",
      "7/7 [==============================] - 67s 10s/step - loss: 0.3048 - accuracy: 0.8884 - val_loss: 0.1494 - val_accuracy: 0.9833\n",
      "Epoch 5/10\n",
      "7/7 [==============================] - 70s 10s/step - loss: 0.2835 - accuracy: 0.8795 - val_loss: 0.0896 - val_accuracy: 0.9833\n",
      "Epoch 6/10\n",
      "7/7 [==============================] - 69s 10s/step - loss: 0.2252 - accuracy: 0.8973 - val_loss: 0.1584 - val_accuracy: 0.9833\n",
      "Epoch 7/10\n",
      "7/7 [==============================] - 69s 10s/step - loss: 0.2601 - accuracy: 0.8884 - val_loss: 0.1191 - val_accuracy: 0.9833\n",
      "Epoch 8/10\n",
      "7/7 [==============================] - 69s 10s/step - loss: 0.2848 - accuracy: 0.8973 - val_loss: 0.0762 - val_accuracy: 1.0000\n",
      "Epoch 9/10\n",
      "7/7 [==============================] - 69s 10s/step - loss: 0.2385 - accuracy: 0.9152 - val_loss: 0.1336 - val_accuracy: 0.9667\n",
      "Epoch 10/10\n",
      "7/7 [==============================] - 67s 9s/step - loss: 0.2648 - accuracy: 0.9241 - val_loss: 0.0816 - val_accuracy: 0.9833\n"
     ]
    }
   ],
   "source": [
    "#Training the model\n",
    "hist=model.fit_generator(\n",
    "    train_generator,\n",
    "    steps_per_epoch=7,\n",
    "    epochs=10,\n",
    "    validation_data=validation_generator,\n",
    "    validation_steps=2\n",
    ")"
   ]
  },
  {
   "cell_type": "code",
   "execution_count": 17,
   "id": "b4d029a9",
   "metadata": {},
   "outputs": [
    {
     "name": "stdout",
     "output_type": "stream",
     "text": [
      "{'loss': [0.41727617383003235, 0.3872545659542084, 0.3169087767601013, 0.3047504425048828, 0.2834984362125397, 0.22520561516284943, 0.260092169046402, 0.2848369777202606, 0.2385338395833969, 0.2647802531719208], 'accuracy': [0.8214285969734192, 0.8660714030265808, 0.9017857313156128, 0.8883928656578064, 0.8794642686843872, 0.8973214030265808, 0.8883928656578064, 0.8973214030265808, 0.9151785969734192, 0.9241071343421936], 'val_loss': [0.2533113956451416, 0.31881967186927795, 0.1997343897819519, 0.14941520988941193, 0.08961227536201477, 0.15843413770198822, 0.11910177767276764, 0.07623574137687683, 0.13360793888568878, 0.08164048194885254], 'val_accuracy': [0.949999988079071, 0.9833333492279053, 0.9666666388511658, 0.9833333492279053, 0.9833333492279053, 0.9833333492279053, 0.9833333492279053, 1.0, 0.9666666388511658, 0.9833333492279053]}\n"
     ]
    }
   ],
   "source": [
    "#Getting summary\n",
    "summary=hist.history\n",
    "print(summary)"
   ]
  },
  {
   "cell_type": "code",
   "execution_count": 57,
   "id": "241325af",
   "metadata": {},
   "outputs": [
    {
     "name": "stdout",
     "output_type": "stream",
     "text": [
      "98.333\n"
     ]
    }
   ],
   "source": [
    "_, acc = model.evaluate_generator(validation_generator, steps=len(validation_generator), verbose=0)\n",
    "print('%.3f' % (acc * 100.0))"
   ]
  },
  {
   "cell_type": "markdown",
   "id": "756beb41",
   "metadata": {},
   "source": [
    "# Confusion Matrix"
   ]
  },
  {
   "cell_type": "code",
   "execution_count": 69,
   "id": "4d382e0e",
   "metadata": {},
   "outputs": [],
   "source": [
    "y_actual, y_test = [],[]"
   ]
  },
  {
   "cell_type": "code",
   "execution_count": 75,
   "id": "94826d1d",
   "metadata": {},
   "outputs": [],
   "source": [
    "for i in os.listdir(\"./CovidDataset/Val/Normal/\"):\n",
    "    img=image.load_img(\"./CovidDataset/Val/Normal/\"+i,target_size=(224,224))\n",
    "    img=image.img_to_array(img)\n",
    "    img=np.expand_dims(img,axis=0)#Along row expansion\n",
    "    pred=model.predict_classes(img)\n",
    "    y_test=np.append(y_test,pred[0,0])\n",
    "    y_actual=np.append(y_actual,1)"
   ]
  },
  {
   "cell_type": "code",
   "execution_count": 76,
   "id": "a25105e6",
   "metadata": {},
   "outputs": [],
   "source": [
    "for i in os.listdir(\"./CovidDataset/Val/Covid/\"):\n",
    "    img=image.load_img(\"./CovidDataset/Val/Covid/\"+i,target_size=(224,224))\n",
    "    img=image.img_to_array(img)\n",
    "    img=np.expand_dims(img,axis=0)\n",
    "    pred=model.predict_classes(img)\n",
    "    y_test=np.append(y_test,pred[0,0])\n",
    "    y_actual=np.append(y_actual,0)"
   ]
  },
  {
   "cell_type": "code",
   "execution_count": 77,
   "id": "56ce506d",
   "metadata": {},
   "outputs": [],
   "source": [
    "y_actual=np.array(y_actual)\n",
    "y_test=np.array(y_test)"
   ]
  },
  {
   "cell_type": "code",
   "execution_count": 78,
   "id": "bde60300",
   "metadata": {},
   "outputs": [
    {
     "name": "stdout",
     "output_type": "stream",
     "text": [
      "[[28  2]\n",
      " [ 0 30]]\n"
     ]
    }
   ],
   "source": [
    "from sklearn.metrics import confusion_matrix\n",
    "import seaborn as sns\n",
    "cn=confusion_matrix(y_actual,y_test)\n",
    "print(cn)"
   ]
  },
  {
   "cell_type": "code",
   "execution_count": 79,
   "id": "7da4f13f",
   "metadata": {},
   "outputs": [
    {
     "data": {
      "image/png": "[encoded data removed]",
      "text/plain": [
       "<Figure size 432x288 with 2 Axes>"
      ]
     },
     "metadata": {
      "needs_background": "light"
     },
     "output_type": "display_data"
    }
   ],
   "source": [
    "sns.heatmap(cn,cmap=\"plasma\",annot=True) #0: Covid ; 1: Normal\n",
    "plt.autoscale(enable=True, axis='y')"
   ]
  },
  {
   "cell_type": "code",
   "execution_count": null,
   "id": "2599d20f",
   "metadata": {},
   "outputs": [],
   "source": []
  }
 ],
 "metadata": {
  "kernelspec": {
   "display_name": "Python 3",
   "language": "python",
   "name": "python3"
  },
  "language_info": {
   "codemirror_mode": {
    "name": "ipython",
    "version": 3
   },
   "file_extension": ".py",
   "mimetype": "text/x-python",
   "name": "python",
   "nbconvert_exporter": "python",
   "pygments_lexer": "ipython3",
   "version": "3.8.10"
  }
 },
 "nbformat": 4,
 "nbformat_minor": 5
}
